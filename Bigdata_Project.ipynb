{
 "cells": [
  {
   "cell_type": "markdown",
   "metadata": {},
   "source": [
    "# Big data Project Code"
   ]
  },
  {
   "cell_type": "code",
   "execution_count": null,
   "metadata": {
    "scrolled": true
   },
   "outputs": [],
   "source": [
    "import pandas as pd\n",
    "import numpy as np\n",
    "import scipy\n",
    "import matplotlib.pyplot as plt\n",
    "%matplotlib inline\n",
    "import seaborn as sns\n",
    "import datetime\n",
    "\n",
    "\n",
    "df15 = pd.read_csv('2015.csv')\n",
    "df16 = pd.read_csv('2016.csv')\n",
    "df17 = pd.read_csv('2017.csv')\n",
    "df18 = pd.read_csv('2018.csv')\n",
    "df19 = pd.read_csv('2019.csv')\n",
    "df20 = pd.read_csv('2020.csv')\n",
    "symbol_list = pd.read_csv('Symbol.csv')\n",
    "covid = pd.read_csv('covid-19.csv')\n",
    "\n"
   ]
  },
  {
   "cell_type": "code",
   "execution_count": null,
   "metadata": {
    "scrolled": true
   },
   "outputs": [],
   "source": [
    "combo = pd.concat([df15, df16, df17, df18, df19, df20])\n",
    "combo"
   ]
  },
  {
   "cell_type": "markdown",
   "metadata": {},
   "source": [
    "### Mask by most top 10 closers¶\n"
   ]
  },
  {
   "cell_type": "code",
   "execution_count": null,
   "metadata": {},
   "outputs": [],
   "source": [
    "df20['date'] = df20['Date'].astype(str) + \"-\" + df20[\"Month\"].astype(str) + \"-\"+ df20[\"Year\"].astype(str)"
   ]
  },
  {
   "cell_type": "code",
   "execution_count": null,
   "metadata": {},
   "outputs": [],
   "source": [
    "combo['date'] = combo['Year'].astype(str) + \"-\" + combo[\"Month\"].astype(str) + \"-\"+ combo[\"Date\"].astype(str)"
   ]
  },
  {
   "cell_type": "code",
   "execution_count": null,
   "metadata": {},
   "outputs": [],
   "source": [
    "symbols = df20[\"Name\"].unique().tolist()\n",
    "maxPerSymbol={}\n",
    "for u in symbols:\n",
    "    values = df20[(df20[\"Name\"] == u)][\"Close\"].tolist()\n",
    "    maxPerSymbol[u] = max(values)\n",
    "\n",
    "top10Closers = list(dict(sorted(maxPerSymbol.items(), \n",
    "                   key=lambda v:v[1],\n",
    "                   reverse=True)[:10]).keys())\n",
    "\n",
    "top10Closers\n",
    "\n",
    "#top_10_mask = [i in top10Closers for i in df_masked1[\"Name\"].tolist()]\n",
    "#df_masked2 = df_masked1[top_10_mask]\n",
    "#df_masked2.head()"
   ]
  },
  {
   "cell_type": "markdown",
   "metadata": {},
   "source": [
    "# Exploratory Analysis"
   ]
  },
  {
   "cell_type": "markdown",
   "metadata": {},
   "source": [
    "### 1. Close price for First 10 companies"
   ]
  },
  {
   "cell_type": "code",
   "execution_count": null,
   "metadata": {
    "scrolled": true
   },
   "outputs": [],
   "source": [
    "import matplotlib.dates as mdates\n",
    "\n",
    "combo.index = combo['date']\n",
    "symbols = combo[\"Name\"].unique().tolist()\n",
    "plt.figure(figsize=(15,8))\n",
    "\n",
    "\n",
    "for u in symbols[:10]:\n",
    "    dates = combo[(combo[\"Name\"] == u)][\"date\"]\n",
    "    values = combo[(combo[\"Name\"] == u)][\"Close\"]\n",
    "    \n",
    "    plt.plot(dates,values.tolist(), linewidth=2.0)\n",
    "\n",
    "plt.legend(symbols, loc='upper left')\n",
    "plt.title('Top 10 Stocks Closing Price over 5 years ', fontsize=16)\n",
    "plt.xlabel('Time (years)', fontsize=15)\n",
    "#plt.xticks(np.arange(datetime(2015,7,1), datetime(2020,4,10), timedelta(days=260)).astype(datetime))\n",
    "\n",
    "ax = plt.gca()\n",
    "ax.xaxis.set_major_locator(mdates.MonthLocator(interval=10))\n",
    "ax.xaxis.set_major_formatter(mdates.DateFormatter('%Y-%m-%d'))\n",
    "plt.gcf().autofmt_xdate()\n",
    "plt.ylabel('Closing Price ($/stock)', fontsize=15)\n",
    "\n",
    "plt.show()"
   ]
  },
  {
   "cell_type": "code",
   "execution_count": null,
   "metadata": {},
   "outputs": [],
   "source": [
    "latest_year = max(pd.unique(list(combo[\"date\"])))\n",
    "latest_year_mask = [i==latest_year for i in combo[\"date\"]]\n",
    "df_masked1 = combo[latest_year_mask]\n",
    "df_masked1.head()"
   ]
  },
  {
   "cell_type": "code",
   "execution_count": null,
   "metadata": {},
   "outputs": [],
   "source": [
    "amzn = combo[combo['Name']=='AMZN']\n",
    "\n",
    "amzn"
   ]
  },
  {
   "cell_type": "code",
   "execution_count": null,
   "metadata": {},
   "outputs": [],
   "source": [
    "# Let's go ahead and plot out several moving averages\n",
    "MA_day = [10,20,50,100]\n",
    "\n",
    "for ma in MA_day:\n",
    "    column_name = 'MA for %s days' %(str(ma))\n",
    "    amzn[column_name] = amzn['Close'].rolling(ma).mean()"
   ]
  },
  {
   "cell_type": "code",
   "execution_count": null,
   "metadata": {},
   "outputs": [],
   "source": [
    "amzn.head()"
   ]
  },
  {
   "cell_type": "code",
   "execution_count": null,
   "metadata": {},
   "outputs": [],
   "source": [
    "amzn.describe()"
   ]
  },
  {
   "cell_type": "markdown",
   "metadata": {},
   "source": [
    "### 2. Amazon Stock closing price over 5 years plot"
   ]
  },
  {
   "cell_type": "code",
   "execution_count": null,
   "metadata": {
    "scrolled": true
   },
   "outputs": [],
   "source": [
    "amzn.index = amzn['date']\n",
    "\n",
    "amzn['Close'].plot(legend=True, figsize=(10,4),  linewidth=3.0)\n",
    "plt.title('Amazon Stocks price over 5 years', fontsize=16)\n",
    "plt.xlabel('Time (years)', fontsize=15)\n",
    "plt.ylabel('Closing Price ($/stock)', fontsize=15)"
   ]
  },
  {
   "cell_type": "markdown",
   "metadata": {},
   "source": [
    "### 3. Amazon Total Stocks Volume plot for last 5 years"
   ]
  },
  {
   "cell_type": "code",
   "execution_count": null,
   "metadata": {},
   "outputs": [],
   "source": [
    "amzn.index = amzn['date']\n",
    "amzn['Volume'].plot(legend=True, figsize=(10,4),  linewidth= 3.0)\n",
    "plt.title('Amazon Total Stocks volume over 5 years', fontsize=16)\n",
    "plt.ylabel('Closing Price ($/stock)', fontsize=15)\n"
   ]
  },
  {
   "cell_type": "markdown",
   "metadata": {},
   "source": [
    "### 4.Moving Average Plot for Amazon "
   ]
  },
  {
   "cell_type": "code",
   "execution_count": null,
   "metadata": {
    "scrolled": true
   },
   "outputs": [],
   "source": [
    "#Moving Average\n",
    "\n",
    "amzn.index = amzn['date']\n",
    "MA_day = [10,20,50,100]\n",
    "\n",
    "for ma in MA_day:\n",
    "    column_name = 'MA for %s days' %(str(ma))\n",
    "    amzn[column_name] = amzn['Close'].rolling(ma).mean()"
   ]
  },
  {
   "cell_type": "code",
   "execution_count": null,
   "metadata": {},
   "outputs": [],
   "source": [
    "amzn[['Close','MA for 10 days','MA for 20 days','MA for 50 days']].plot(subplots=False,figsize=(10,4),  linewidth=3.0)\n",
    "\n",
    "plt.title('Amazon moving average by days', fontsize=16)\n",
    "plt.ylabel('Closing Price ($/stock)', fontsize=15)"
   ]
  },
  {
   "cell_type": "markdown",
   "metadata": {},
   "source": [
    "### 5.Amazon daily return plot for last 5 years"
   ]
  },
  {
   "cell_type": "code",
   "execution_count": null,
   "metadata": {},
   "outputs": [],
   "source": [
    "# We'll use pct_change to find the percent change for each day\n",
    "amzn['Daily Return'] = amzn['Close'].pct_change()"
   ]
  },
  {
   "cell_type": "code",
   "execution_count": null,
   "metadata": {},
   "outputs": [],
   "source": [
    "# plot for the daily return percentage\n",
    "amzn.index = amzn['date']\n",
    "amzn['Daily Return'].plot(figsize=(12,4), legend=True, linestyle='--', marker='o', linewidth=3.0)\n",
    "plt.title('Amazon daily return for last 5 years', fontsize=16)\n",
    "plt.ylabel('% return', fontsize=15)"
   ]
  },
  {
   "cell_type": "markdown",
   "metadata": {},
   "source": [
    "### 6. Amazon daily return plot using histogram"
   ]
  },
  {
   "cell_type": "code",
   "execution_count": null,
   "metadata": {},
   "outputs": [],
   "source": [
    "#average daily return using a histogram\n",
    "amzn['Daily Return'].hist(bins=100)\n",
    "plt.title('Amazon daily return using histogram', fontsize=16)\n"
   ]
  },
  {
   "cell_type": "markdown",
   "metadata": {},
   "source": [
    "### Amazon daily return line plot for last 5 years"
   ]
  },
  {
   "cell_type": "code",
   "execution_count": null,
   "metadata": {},
   "outputs": [],
   "source": [
    "# Note the use of dropna() here, otherwise the NaN values can't be read by seaborn\n",
    "sns.distplot(amzn['Daily Return'].dropna(), bins=100, color='magenta')\n",
    "plt.title('Amazon daily return for last 5 years', fontsize=16)"
   ]
  },
  {
   "cell_type": "code",
   "execution_count": null,
   "metadata": {},
   "outputs": [],
   "source": [
    "from pandas_datareader import DataReader\n",
    "# set up Start and End time for data grab\n",
    "toplist = combo[combo['Close'] == -1]\n",
    "\n",
    "for i in top10Closers:\n",
    "    x = combo[combo['Name'] == i]\n",
    "    toplist = pd.concat([toplist,x])\n",
    "\n"
   ]
  },
  {
   "cell_type": "code",
   "execution_count": null,
   "metadata": {},
   "outputs": [],
   "source": [
    "toplist.index = toplist['date']"
   ]
  },
  {
   "cell_type": "code",
   "execution_count": null,
   "metadata": {},
   "outputs": [],
   "source": [
    "toplist"
   ]
  },
  {
   "cell_type": "code",
   "execution_count": null,
   "metadata": {},
   "outputs": [],
   "source": [
    "# make a new tech returns DataFrame\n",
    "tech_returns = toplist['Close'].pct_change()"
   ]
  },
  {
   "cell_type": "code",
   "execution_count": null,
   "metadata": {},
   "outputs": [],
   "source": [
    "tech_returns.head()"
   ]
  },
  {
   "cell_type": "code",
   "execution_count": null,
   "metadata": {},
   "outputs": [],
   "source": [
    "rets = tech_returns.dropna()\n",
    "rets.describe()"
   ]
  },
  {
   "cell_type": "code",
   "execution_count": null,
   "metadata": {},
   "outputs": [],
   "source": [
    "top10Closers"
   ]
  },
  {
   "cell_type": "code",
   "execution_count": null,
   "metadata": {},
   "outputs": [],
   "source": [
    "combo.index = combo['date']"
   ]
  },
  {
   "cell_type": "code",
   "execution_count": null,
   "metadata": {},
   "outputs": [],
   "source": [
    "amzn = combo[combo['Name']=='AMZN']\n",
    "apple = combo[combo['Name']=='AAPL']\n",
    "google = combo[combo['Name']=='GOOGL']\n",
    "br = combo[combo['Name']=='BRK.A']\n",
    "fb = combo[combo['Name']=='FB']\n",
    "msft = combo[combo['Name']=='MSFT']\n",
    "bacl = combo[combo['Name']=='BAC-L']\n",
    "wfcl = combo[combo['Name']=='WFC-L']\n",
    "ccia = combo[combo['Name']=='CCI-A']"
   ]
  },
  {
   "cell_type": "code",
   "execution_count": null,
   "metadata": {},
   "outputs": [],
   "source": [
    "# Below I create a DataFrame consisting of the adjusted closing price of these stocks, first by making a list of these objects and using the join method\n",
    "\n",
    "stocks = pd.DataFrame({\n",
    "                       \"AMZN\": amzn[\"Close\"],\n",
    "                       \"AAPL\": apple[\"Close\"],\n",
    "                       \"MSFT\": msft[\"Close\"],\n",
    "                       \"GOOG\": google[\"Close\"],\n",
    "                       \"FB\": fb[\"Close\"],\n",
    "                        })\n",
    " \n",
    "stocks.head()"
   ]
  },
  {
   "cell_type": "markdown",
   "metadata": {},
   "source": [
    "### 7. Top 5 renowned companies closing price for last 5 years"
   ]
  },
  {
   "cell_type": "code",
   "execution_count": null,
   "metadata": {},
   "outputs": [],
   "source": [
    "plt.figure(figsize=(16,8))\n",
    "stocks.plot(figsize=(15,4), grid = True,  linewidth=3.0)\n",
    "plt.legend(fancybox=True, framealpha=0.1)\n",
    "plt.title('Top 5 company closing price for last 5 years', fontsize=16)\n",
    "plt.ylabel('Closing Price ($/stock)', fontsize=15)"
   ]
  },
  {
   "cell_type": "code",
   "execution_count": null,
   "metadata": {},
   "outputs": [],
   "source": [
    "amzn = df20[df20['Name']=='AMZN']\n",
    "apple = df20[df20['Name']=='AAPL']\n",
    "google = df20[df20['Name']=='GOOGL']\n",
    "br = df20[df20['Name']=='BRK.A']\n",
    "fb = df20[df20['Name']=='FB']\n",
    "msft = df20[df20['Name']=='MSFT']\n",
    "bacl = df20[df20['Name']=='BAC-L']\n",
    "wfcl = df20[df20['Name']=='WFC-L']\n",
    "ccia = df20[df20['Name']=='CCI-A']\n",
    "tsla = df20[df20['Name']=='TSLA']\n",
    "dbx = df20[df20['Name']== 'DBX']"
   ]
  },
  {
   "cell_type": "code",
   "execution_count": null,
   "metadata": {},
   "outputs": [],
   "source": [
    "stocks_20 = pd.DataFrame({\n",
    "                       \"AMZN\": amzn[\"Close\"],\n",
    "                       \"AAPL\": apple[\"Close\"],\n",
    "                       \"MSFT\": msft[\"Close\"],\n",
    "                       \"GOOG\": google[\"Close\"],\n",
    "                       \"FB\": fb[\"Close\"],\n",
    "                       \"TSLA\":tsla[\"Close\"],\n",
    "                       \"DBX\":dbx[\"Close\"],\n",
    "                        })\n",
    " \n",
    "stocks_20.head()"
   ]
  },
  {
   "cell_type": "code",
   "execution_count": null,
   "metadata": {},
   "outputs": [],
   "source": [
    "plt.figure(figsize=(10,5))\n",
    "stocks_20.plot(figsize=(15,4), grid = True, linewidth=3.0)\n",
    "plt.legend(fancybox=True, framealpha=0.1)\n",
    "plt.title('Renowned Company closing price for 2020', fontsize=16)\n",
    "plt.ylabel('Closing Price ($/stock)', fontsize=15)"
   ]
  },
  {
   "cell_type": "markdown",
   "metadata": {},
   "source": [
    "One transformation would be to consider the stock’s return since the beginning of the period of interest. In other words, we plot:\n",
    "\n",
    "\\text{return}_{t,0} = \\frac{\\text{price}_t}{\\text{price}_0}"
   ]
  },
  {
   "cell_type": "code",
   "execution_count": null,
   "metadata": {},
   "outputs": [],
   "source": [
    "import quandl\n",
    "stock_return = stocks.apply(lambda x: x / x[0])\n",
    "stock_return.head() - 1"
   ]
  },
  {
   "cell_type": "markdown",
   "metadata": {},
   "source": [
    "### 8. Renowned Companies Stock return price Plot"
   ]
  },
  {
   "cell_type": "code",
   "execution_count": null,
   "metadata": {},
   "outputs": [],
   "source": [
    "stock_return.plot(grid = True, figsize=(16,8)).axhline(y = 1, color = \"black\", lw = 2, linewidth=2.0)\n",
    "plt.legend(fancybox=True, framealpha=0.1)\n",
    "plt.title('Renowned Companies Stock return price', fontsize=16)\n",
    "plt.ylabel('Closing Price ($/stock)', fontsize=15)"
   ]
  },
  {
   "cell_type": "markdown",
   "metadata": {},
   "source": [
    "This is a much more useful plot. We can now see how profitable each stock was since the beginning of the period. Furthermore, we see that these stocks are highly correlated; they generally move in the same direction, a fact that was difficult to see in the other charts."
   ]
  },
  {
   "cell_type": "markdown",
   "metadata": {},
   "source": [
    "Alternatively, we could plot the change of each stock per day. One way to do so would be to plot the percentage increase of a stock when comparing day t to day t + 1, with the formula:"
   ]
  },
  {
   "cell_type": "code",
   "execution_count": null,
   "metadata": {},
   "outputs": [],
   "source": [
    "stock_change = stocks.apply(lambda x: np.log(x) - np.log(x.shift(1))) # shift moves dates back by 1.\n",
    "stock_change.head()"
   ]
  },
  {
   "cell_type": "markdown",
   "metadata": {},
   "source": [
    "### 8. Stocks Price change over time of last 2 years"
   ]
  },
  {
   "cell_type": "code",
   "execution_count": null,
   "metadata": {},
   "outputs": [],
   "source": [
    "stock_change.plot(grid = True, figsize=(16,8)).axhline(y = 0, color = \"black\", lw = 2, linewidth=1.0)\n",
    "plt.legend(fancybox=True, framealpha=0.1)\n",
    "plt.title('Top 5 company % increase of a stock each day for last 5 years', fontsize=16)\n",
    "plt.ylabel('% increase($/stock)', fontsize=15)\n",
    "plt.title('Stocks Price change over time', fontsize=16)"
   ]
  },
  {
   "cell_type": "code",
   "execution_count": null,
   "metadata": {},
   "outputs": [],
   "source": [
    "stocks.describe()\n"
   ]
  },
  {
   "cell_type": "code",
   "execution_count": null,
   "metadata": {},
   "outputs": [],
   "source": [
    "amzn = combo[combo['Name']=='AMZN']\n",
    "apple = combo[combo['Name']=='AAPL']\n",
    "google = combo[combo['Name']=='GOOGL']\n",
    "br = combo[combo['Name']=='BRK.A']\n",
    "fb = combo[combo['Name']=='FB']\n",
    "msft = combo[combo['Name']=='MSFT']\n",
    "bacl = combo[combo['Name']=='BAC-L']\n",
    "wfcl = combo[combo['Name']=='WFC-L']\n",
    "ccia = combo[combo['Name']=='CCI-A']\n",
    "tsla = combo[combo['Name']=='TSLA']\n",
    "dbx = combo[combo['Name']== 'DBX']"
   ]
  },
  {
   "cell_type": "code",
   "execution_count": null,
   "metadata": {},
   "outputs": [],
   "source": [
    "stocks_c = pd.DataFrame({\n",
    "                       \"AMZN\": amzn[\"Close\"],\n",
    "                       \"AAPL\": apple[\"Close\"],\n",
    "                       \"MSFT\": msft[\"Close\"],\n",
    "                       \"GOOG\": google[\"Close\"],\n",
    "                       \"FB\": fb[\"Close\"],\n",
    "                       \"TSLA\":tsla[\"Close\"],\n",
    "                       \"DBX\":dbx[\"Close\"],\n",
    "                        })\n",
    " \n",
    "stocks_c.head()"
   ]
  },
  {
   "cell_type": "markdown",
   "metadata": {},
   "source": [
    "### 9. Renowned Company closing price for last 5 years"
   ]
  },
  {
   "cell_type": "code",
   "execution_count": null,
   "metadata": {},
   "outputs": [],
   "source": [
    "plt.figure(figsize=(10,5))\n",
    "stocks_c.plot(figsize=(15,4), grid = True, linewidth=3.0)\n",
    "plt.legend(fancybox=True, framealpha=0.1)\n",
    "plt.title('Renowned Company closing price for last 5 years', fontsize=16)\n",
    "plt.ylabel('Closing Price ($/stock)', fontsize=15)"
   ]
  },
  {
   "cell_type": "code",
   "execution_count": null,
   "metadata": {},
   "outputs": [],
   "source": [
    "import pandas_datareader as dr\n",
    "%matplotlib inline"
   ]
  },
  {
   "cell_type": "code",
   "execution_count": null,
   "metadata": {},
   "outputs": [],
   "source": [
    "df = dr.data.get_data_yahoo('aapl', start = '2018-04-01', end = '2020-05-04')"
   ]
  },
  {
   "cell_type": "code",
   "execution_count": null,
   "metadata": {},
   "outputs": [],
   "source": [
    "df"
   ]
  },
  {
   "cell_type": "markdown",
   "metadata": {},
   "source": [
    "### 10.Apple last 1 year Closing Price plot"
   ]
  },
  {
   "cell_type": "code",
   "execution_count": null,
   "metadata": {
    "scrolled": true
   },
   "outputs": [],
   "source": [
    "from datetime import datetime\n",
    "import matplotlib.pyplot as plt \n",
    "%pylab inline\n",
    "\n",
    "start = datetime.datetime(2019,4,14)\n",
    "end = datetime.date.today()\n",
    "amzn = dr.data.get_data_yahoo('amzn', start , end)\n",
    "\n",
    "pylab.rcParams['figure.figsize'] = (15, 9)   # Change the size of plots\n",
    "plt.title('Apple last 1 year Closing Price', fontsize=16)\n",
    "plt.ylabel('Closing Price($/Stock)', fontsize=12)\n",
    "amzn[\"Volume\"].plot(grid = True)"
   ]
  },
  {
   "cell_type": "markdown",
   "metadata": {},
   "source": [
    "### 11. Amazon last 1 year Closing Price Plot"
   ]
  },
  {
   "cell_type": "code",
   "execution_count": null,
   "metadata": {
    "scrolled": true
   },
   "outputs": [],
   "source": [
    "start = datetime.datetime(2019,1,1)\n",
    "end = datetime.date.today()\n",
    "amzn = dr.data.get_data_yahoo('amzn', start , end)\n",
    "\n",
    "pylab.rcParams['figure.figsize'] = (15, 9)   # Change the size of plots\n",
    "plt.title('Amazon last 1 Yr Volume Change ', fontsize=16)\n",
    "plt.ylabel('Volume', fontsize=12)\n",
    "amzn[\"Volume\"].plot(grid = True)"
   ]
  },
  {
   "cell_type": "code",
   "execution_count": null,
   "metadata": {},
   "outputs": [],
   "source": [
    "amzn"
   ]
  },
  {
   "cell_type": "code",
   "execution_count": null,
   "metadata": {},
   "outputs": [],
   "source": [
    "#Moving Average\n",
    "start = datetime.datetime(2020,4,14)\n",
    "end = datetime.date.today()\n",
    "amzn1 = dr.data.get_data_yahoo('amzn', start , end)\n",
    "\n",
    "\n",
    "MA_day = [10,20]\n",
    "\n",
    "for ma in MA_day:\n",
    "    column_name = 'MA for %s days' %(str(ma))\n",
    "    amzn1[column_name] = amzn1['Adj Close'].rolling(ma).mean()\n",
    "    \n"
   ]
  },
  {
   "cell_type": "code",
   "execution_count": null,
   "metadata": {},
   "outputs": [],
   "source": [
    "amzn1"
   ]
  },
  {
   "cell_type": "code",
   "execution_count": null,
   "metadata": {},
   "outputs": [],
   "source": [
    "fig = amzn1[['Close','MA for 10 days','MA for 20 days']].plot(subplots=False,figsize=(10,4),  linewidth=3.0)\n",
    "\n",
    "fig.title('Amazon moving average by days', fontsize=16)\n",
    "plt.ylabel('Closing Price ($/stock)', fontsize=15)\n",
    "fig.show()"
   ]
  },
  {
   "cell_type": "code",
   "execution_count": null,
   "metadata": {},
   "outputs": [],
   "source": [
    "\n",
    "apple.info()"
   ]
  },
  {
   "cell_type": "code",
   "execution_count": null,
   "metadata": {},
   "outputs": [],
   "source": [
    "from lxml import html  \n",
    "import requests\n",
    "from time import sleep\n",
    "import json\n",
    "import argparse\n",
    "from collections import OrderedDict\n",
    "from time import sleep\n",
    "\n",
    "def parse(ticker):\n",
    "    url = \"http://finance.yahoo.com/quote/%s?p=%s\"%(ticker,ticker)\n",
    "    response = requests.get(url, verify=False)\n",
    "    print (\"Parsing %s\"%(url))\n",
    "    sleep(4)\n",
    "    parser = html.fromstring(response.text)\n",
    "    summary_table = parser.xpath('//div[contains(@data-test,\"summary-table\")]//tr')\n",
    "    summary_data = OrderedDict()\n",
    "    other_details_json_link = \"https://query2.finance.yahoo.com/v10/finance/quoteSummary/{0}?formatted=true&lang=en-US&region=US&modules=summaryProfile%2CfinancialData%2CrecommendationTrend%2CupgradeDowngradeHistory%2Cearnings%2CdefaultKeyStatistics%2CcalendarEvents&corsDomain=finance.yahoo.com\".format(ticker)\n",
    "    summary_json_response = requests.get(other_details_json_link)\n",
    "    try:\n",
    "        json_loaded_summary =  json.loads(summary_json_response.text)\n",
    "        y_Target_Est = json_loaded_summary[\"quoteSummary\"][\"result\"][0][\"financialData\"][\"targetMeanPrice\"]['raw']\n",
    "        earnings_list = json_loaded_summary[\"quoteSummary\"][\"result\"][0][\"calendarEvents\"]['earnings']\n",
    "        eps = json_loaded_summary[\"quoteSummary\"][\"result\"][0][\"defaultKeyStatistics\"][\"trailingEps\"]['raw']\n",
    "        datelist = []\n",
    "        for i in earnings_list['earningsDate']:\n",
    "            datelist.append(i['fmt'])\n",
    "        earnings_date = ' to '.join(datelist)\n",
    "        for table_data in summary_table:\n",
    "            raw_table_key = table_data.xpath('.//td[contains(@class,\"C(black)\")]//text()')\n",
    "            raw_table_value = table_data.xpath('.//td[contains(@class,\"Ta(end)\")]//text()')\n",
    "            table_key = ''.join(raw_table_key).strip()\n",
    "            table_value = ''.join(raw_table_value).strip()\n",
    "            summary_data.update({table_key:table_value})\n",
    "        summary_data.update({'1y Target Est':y_Target_Est,'EPS (TTM)':eps,'Earnings Date':earnings_date,'ticker':ticker,'url':url})\n",
    "        return summary_data\n",
    "    except:\n",
    "        print (\"Failed to parse json response\")\n",
    "        return {\"error\":\"Failed to parse json response\"}\n",
    "\n",
    "if __name__==\"__main__\":\n",
    "    argparser = argparse.ArgumentParser()\n",
    "    argparser.add_argument('ticker',help = '')\n",
    "    args = argparser.parse_args()\n",
    "    ticker = args.ticker\n",
    "    print (\"Fetching data for %s\"%(ticker))\n",
    "    scraped_data = parse(ticker)\n",
    "    print (\"Writing data to output file\")\n",
    "    with open('%s-summary.json'%(ticker),'w') as fp:\n",
    "        json.dump(scraped_data,fp,indent = 4)"
   ]
  },
  {
   "cell_type": "code",
   "execution_count": null,
   "metadata": {},
   "outputs": [],
   "source": [
    "aaple = parse('AAPL')"
   ]
  },
  {
   "cell_type": "code",
   "execution_count": null,
   "metadata": {},
   "outputs": [],
   "source": [
    "aaple"
   ]
  },
  {
   "cell_type": "code",
   "execution_count": null,
   "metadata": {},
   "outputs": [],
   "source": [
    "tgt_website = r'https://finance.yahoo.com/industries'\n",
    " \n",
    "def get_key_stats(tgt_website):\n",
    " \n",
    "    # The web page is make up of several html table. By calling read_html function.\n",
    "    # all the tables are retrieved in dataframe format.\n",
    "    # Next is to append all the table and transpose it to give a nice one row data.\n",
    "    df_list = pd.read_html(tgt_website)\n",
    "    result_df = df_list[0]\n",
    " \n",
    "    for df in df_list[1:]:\n",
    "        result_df = result_df.append(df)\n",
    " \n",
    "    # The data is in column format.\n",
    "    # Transpose the result to make all data in single row\n",
    "    return result_df\n",
    " \n",
    "# Save the result to csv\n",
    "result_df = get_key_stats(tgt_website)"
   ]
  },
  {
   "cell_type": "code",
   "execution_count": null,
   "metadata": {},
   "outputs": [],
   "source": [
    "result_df"
   ]
  },
  {
   "cell_type": "code",
   "execution_count": null,
   "metadata": {},
   "outputs": [],
   "source": [
    "import quandl\n",
    "from sklearn.linear_model import LinearRegression\n",
    "from sklearn.svm import SVR\n",
    "from sklearn.model_selection import train_test_split"
   ]
  },
  {
   "cell_type": "markdown",
   "metadata": {},
   "source": [
    "### 12. Apple last 5 year Closing Price plot"
   ]
  },
  {
   "cell_type": "code",
   "execution_count": null,
   "metadata": {},
   "outputs": [],
   "source": [
    "pylab.rcParams['figure.figsize'] = (15, 9)   # Change the size of plots\n",
    "plt.title('Apple last 1 year Closing Price', fontsize=16)\n",
    "plt.ylabel('Closing Price($/Stock)', fontsize=12)\n",
    "apple[\"Volume\"].plot(grid = True) "
   ]
  },
  {
   "cell_type": "markdown",
   "metadata": {},
   "source": [
    "### 13. Candlestick Chart of Apple Stock Prices for last 1 Year"
   ]
  },
  {
   "cell_type": "code",
   "execution_count": null,
   "metadata": {
    "scrolled": true
   },
   "outputs": [],
   "source": [
    "from matplotlib.dates import DateFormatter, WeekdayLocator,\\\n",
    "    DayLocator, MONDAY\n",
    "from mpl_finance import candlestick_ohlc\n",
    "from pylab import *\n",
    "\n",
    "\n",
    " \n",
    "def pandas_candlestick_ohlc(dat, stick = \"day\", otherseries = None):\n",
    "    mondays = WeekdayLocator(MONDAY)        # major ticks on the mondays\n",
    "    alldays = DayLocator()              # minor ticks on the days\n",
    "    dayFormatter = DateFormatter('%d')      # e.g., 12\n",
    " \n",
    "    # Create a new DataFrame which includes OHLC data for each period specified by stick input\n",
    "    transdat = dat.loc[:,[\"Open\", \"High\", \"Low\", \"Close\"]]\n",
    "    if (type(stick) == str):\n",
    "        if stick == \"day\":\n",
    "            plotdat = transdat\n",
    "            stick = 1 # Used for plotting\n",
    "        elif stick in [\"week\", \"month\", \"year\"]:\n",
    "            if stick == \"week\":\n",
    "                transdat[\"week\"] = pd.to_datetime(transdat.index).map(lambda x: x.isocalendar()[1]) # Identify weeks\n",
    "            elif stick == \"month\":\n",
    "                transdat[\"month\"] = pd.to_datetime(transdat.index).map(lambda x: x.month) # Identify months\n",
    "            transdat[\"year\"] = pd.to_datetime(transdat.index).map(lambda x: x.isocalendar()[0]) # Identify years\n",
    "            grouped = transdat.groupby(list(set([\"year\",stick]))) # Group by year and other appropriate variable\n",
    "            plotdat = pd.DataFrame({\"Open\": [], \"High\": [], \"Low\": [], \"Close\": []}) # Create empty data frame containing what will be plotted\n",
    "            for name, group in grouped:\n",
    "                plotdat = plotdat.append(pd.DataFrame({\"Open\": group.iloc[0,0],\n",
    "                                            \"High\": max(group.High),\n",
    "                                            \"Low\": min(group.Low),\n",
    "                                            \"Close\": group.iloc[-1,3]},\n",
    "                                           index = [group.index[0]]))\n",
    "            if stick == \"week\": stick = 5\n",
    "            elif stick == \"month\": stick = 30\n",
    "            elif stick == \"year\": stick = 365\n",
    " \n",
    "    elif (type(stick) == int and stick >= 1):\n",
    "        transdat[\"stick\"] = [np.floor(i / stick) for i in range(len(transdat.index))]\n",
    "        grouped = transdat.groupby(\"stick\")\n",
    "        plotdat = pd.DataFrame({\"Open\": [], \"High\": [], \"Low\": [], \"Close\": []}) # Create empty data frame containing what will be plotted\n",
    "        for name, group in grouped:\n",
    "            plotdat = plotdat.append(pd.DataFrame({\"Open\": group.iloc[0,0],\n",
    "                                        \"High\": max(group.High),\n",
    "                                        \"Low\": min(group.Low),\n",
    "                                        \"Close\": group.iloc[-1,3]},\n",
    "                                       index = [group.index[0]]))\n",
    " \n",
    "    else:\n",
    "        raise ValueError('Valid inputs to argument \"stick\" include the strings \"day\", \"week\", \"month\", \"year\", or a positive integer')\n",
    " \n",
    " \n",
    "    # Set plot parameters, including the axis object ax used for plotting\n",
    "    fig, ax = plt.subplots()\n",
    "    fig.subplots_adjust(bottom=0.2)\n",
    "    if plotdat.index[-1] - plotdat.index[0] < pd.Timedelta('30 days'):\n",
    "        weekFormatter = DateFormatter('%b %d')  # e.g., Jan 12\n",
    "        ax.xaxis.set_major_locator(mondays)\n",
    "        ax.xaxis.set_minor_locator(alldays)\n",
    "    else:\n",
    "        weekFormatter = DateFormatter('%b %d, %Y')\n",
    "    ax.xaxis.set_major_formatter(weekFormatter)\n",
    " \n",
    "    ax.grid(True)\n",
    " \n",
    "    # Create the candelstick chart\n",
    "    candlestick_ohlc(ax, list(zip(list(date2num(plotdat.index.tolist())), plotdat[\"Open\"].tolist(), plotdat[\"High\"].tolist(),\n",
    "                      plotdat[\"Low\"].tolist(), plotdat[\"Close\"].tolist())),\n",
    "                      colorup = \"black\", colordown = \"red\", width = stick * .4)\n",
    " \n",
    "    # Plot other series (such as moving averages) as lines\n",
    "    if otherseries != None:\n",
    "        if type(otherseries) != list:\n",
    "            otherseries = [otherseries]\n",
    "        dat.loc[:,otherseries].plot(ax = ax, lw = 1.3, grid = True)\n",
    " \n",
    "    ax.xaxis_date()\n",
    "    ax.autoscale_view()\n",
    "    plt.setp(plt.gca().get_xticklabels(), rotation=45, horizontalalignment='right') \n",
    "    fig.suptitle('Candlestick Chart of Apple Closing Price')\n",
    "    fig\n",
    "    plt.show()\n",
    " \n",
    "pandas_candlestick_ohlc(apple)"
   ]
  },
  {
   "cell_type": "markdown",
   "metadata": {},
   "source": [
    "### 14. Candlestick Chart of Apple Stock Prices for 2020"
   ]
  },
  {
   "cell_type": "code",
   "execution_count": null,
   "metadata": {},
   "outputs": [],
   "source": [
    "microsoft = dr.data.get_data_yahoo('MSFT', '2019-03-01' , '2020-05-03')\n",
    "google = dr.data.get_data_yahoo(\"GOOG\",'2019-03-01' , '2020-05-03')\n",
    "apple_new = dr.data.get_data_yahoo(\"AAPL\",'2019-03-01' , '2020-05-03')\n",
    "fb = dr.data.get_data_yahoo(\"FB\",'2019-03-01' , '2020-05-03')\n",
    "tesla = dr.data.get_data_yahoo(\"TSLA\",'2019-03-01' , '2020-05-03')\n",
    "disney = dr.data.get_data_yahoo(\"DIS\",'2019-03-01' , '2020-05-03')\n",
    "united = dr.data.get_data_yahoo(\"UAL\",'2019-03-01' , '2020-05-03')\n",
    "amazon_1 = dr.data.get_data_yahoo(\"AMZN\",'2019-03-01' , '2020-05-03')\n",
    "\n"
   ]
  },
  {
   "cell_type": "code",
   "execution_count": null,
   "metadata": {},
   "outputs": [],
   "source": [
    "# Below I create a DataFrame consisting of the adjusted closing price of these stocks, first by making a list of these objects and using the join method\n",
    "stocks = pd.DataFrame({\"AAPL\": apple[\"Close\"],\n",
    "                      \"MSFT\": microsoft[\"Close\"],\n",
    "                      \"GOOG\": google[\"Close\"],\n",
    "                      \"FB\":fb[\"Close\"],\n",
    "                      \"TSLA\":tesla[\"Close\"],\n",
    "                      \"DIS\":disney[\"Close\"],\n",
    "                      \"UAL\":united[\"Close\"],\n",
    "                      \"AMZN\":amazon_1[\"Close\"]})\n",
    " \n",
    "stocks.head()"
   ]
  },
  {
   "cell_type": "code",
   "execution_count": null,
   "metadata": {
    "scrolled": true
   },
   "outputs": [],
   "source": [
    "stocks.plot(grid = True)"
   ]
  },
  {
   "cell_type": "code",
   "execution_count": null,
   "metadata": {
    "scrolled": true
   },
   "outputs": [],
   "source": [
    "stocks.plot(secondary_y = [\"AAPL\", \"MSFT\"], grid = True)"
   ]
  },
  {
   "cell_type": "code",
   "execution_count": null,
   "metadata": {},
   "outputs": [],
   "source": [
    "# df.apply(arg) will apply the function arg to each column in df, and return a DataFrame with the result\n",
    "# Recall that lambda x is an anonymous function accepting parameter x; in this case, x will be a pandas Series object\n",
    "stock_return = stocks.apply(lambda x: x / x[0])\n",
    "stock_return.head()\n"
   ]
  },
  {
   "cell_type": "code",
   "execution_count": null,
   "metadata": {},
   "outputs": [],
   "source": [
    "stock_return.plot(grid = True).axhline(y = 1, color = \"black\", lw = 2)"
   ]
  },
  {
   "cell_type": "code",
   "execution_count": null,
   "metadata": {},
   "outputs": [],
   "source": [
    "import numpy as np\n",
    " \n",
    "stock_change = stocks.apply(lambda x: np.log(x) - np.log(x.shift(1))) # shift moves dates back by 1.\n",
    "stock_change.head()\n"
   ]
  },
  {
   "cell_type": "markdown",
   "metadata": {},
   "source": [
    "### 14. Stock Price change plot for last 1 year for renowned companies"
   ]
  },
  {
   "cell_type": "code",
   "execution_count": null,
   "metadata": {
    "scrolled": true
   },
   "outputs": [],
   "source": [
    "stock_change.plot(grid = True).axhline(y = 0, color = \"black\", lw = 2)"
   ]
  },
  {
   "cell_type": "code",
   "execution_count": null,
   "metadata": {},
   "outputs": [],
   "source": [
    "apple[\"20d\"] = np.round(apple[\"Close\"].rolling(window = 20, center = False).mean(), 2)\n",
    "pandas_candlestick_ohlc(apple.loc['2020-01-04':'2020-04-24',:], otherseries = \"20d\")"
   ]
  },
  {
   "cell_type": "markdown",
   "metadata": {},
   "source": [
    "## Classical Risk Metrics\n"
   ]
  },
  {
   "cell_type": "code",
   "execution_count": null,
   "metadata": {},
   "outputs": [],
   "source": [
    "stock_change_apr = stock_change * 252 * 100    # There are 252 trading days in a year; the 100 converts to percentages\n",
    "stock_change_apr.tail()"
   ]
  },
  {
   "cell_type": "code",
   "execution_count": null,
   "metadata": {},
   "outputs": [],
   "source": [
    "covid['Confirmed'].fillna(0,inplace = True)"
   ]
  },
  {
   "cell_type": "code",
   "execution_count": null,
   "metadata": {},
   "outputs": [],
   "source": [
    "covid.isnull().sum()"
   ]
  },
  {
   "cell_type": "code",
   "execution_count": null,
   "metadata": {},
   "outputs": [],
   "source": [
    "covid['Deaths'].fillna(0,inplace = True)"
   ]
  },
  {
   "cell_type": "code",
   "execution_count": null,
   "metadata": {},
   "outputs": [],
   "source": [
    "import pandas as pd\n",
    " \n",
    "crude_oil_website = r'https://finance.yahoo.com/quote/CL%3DF/history?p=CL%3DF'\n",
    " \n",
    "def get_key_stats(tgt_website):\n",
    " \n",
    "    # The web page is make up of several html table. By calling read_html function.\n",
    "    # all the tables are retrieved in dataframe format.\n",
    "    # Next is to append all the table and transpose it to give a nice one row data.\n",
    "    df_list = pd.read_html(crude_oil_website)\n",
    "    result_df = df_list[0]\n",
    " \n",
    "    for df in df_list[1:]:\n",
    "        result_df = result_df.append(df)\n",
    " \n",
    "    # The data is in column format.\n",
    "    # Transpose the result to make all data in single row\n",
    "    return result_df\n",
    " \n",
    "# Save the result to csv\n",
    "crude_oil = get_key_stats(crude_oil_website)"
   ]
  },
  {
   "cell_type": "code",
   "execution_count": null,
   "metadata": {},
   "outputs": [],
   "source": [
    "crude_oil"
   ]
  },
  {
   "cell_type": "code",
   "execution_count": null,
   "metadata": {},
   "outputs": [],
   "source": [
    "crude_oil.drop(crude_oil.tail(1).index,inplace=True)"
   ]
  },
  {
   "cell_type": "code",
   "execution_count": null,
   "metadata": {},
   "outputs": [],
   "source": [
    "import pandas as pd\n",
    " \n",
    "gold_website = r'https://finance.yahoo.com/quote/GC%3DF/history?p=GC%3DF'\n",
    " \n",
    "def get_key_stats(gold_website):\n",
    " \n",
    "    # The web page is make up of several html table. By calling read_html function.\n",
    "    # all the tables are retrieved in dataframe format.\n",
    "    # Next is to append all the table and transpose it to give a nice one row data.\n",
    "    df_list = pd.read_html(gold_website)\n",
    "    result_df = df_list[0]\n",
    " \n",
    "    for df in df_list[1:]:\n",
    "        result_df = result_df.append(df)\n",
    " \n",
    "    # The data is in column format.\n",
    "    # Transpose the result to make all data in single row\n",
    "    return result_df\n",
    " \n",
    "# Save the result to csv\n",
    "gold = get_key_stats(gold_website)"
   ]
  },
  {
   "cell_type": "code",
   "execution_count": null,
   "metadata": {},
   "outputs": [],
   "source": [
    "gold.drop(gold.tail(1).index,inplace=True)"
   ]
  },
  {
   "cell_type": "code",
   "execution_count": null,
   "metadata": {},
   "outputs": [],
   "source": [
    "gold"
   ]
  },
  {
   "cell_type": "code",
   "execution_count": null,
   "metadata": {},
   "outputs": [],
   "source": [
    "import pandas as pd\n",
    " \n",
    "bitcoin_website = r'https://finance.yahoo.com/quote/BTC-USD/history?p=BTC-USD'\n",
    " \n",
    "def get_key_stats(bitcoin_website):\n",
    " \n",
    "    # The web page is make up of several html table. By calling read_html function.\n",
    "    # all the tables are retrieved in dataframe format.\n",
    "    # Next is to append all the table and transpose it to give a nice one row data.\n",
    "    df_list = pd.read_html(bitcoin_website)\n",
    "    result_df = df_list[0]\n",
    " \n",
    "    for df in df_list[1:]:\n",
    "        result_df = result_df.append(df)\n",
    " \n",
    "    # The data is in column format.\n",
    "    # Transpose the result to make all data in single row\n",
    "    return result_df\n",
    " \n",
    "# Save the result to csv\n",
    "bitcoin = get_key_stats(bitcoin_website)"
   ]
  },
  {
   "cell_type": "code",
   "execution_count": null,
   "metadata": {},
   "outputs": [],
   "source": [
    "bitcoin.drop(bitcoin.head(1).index,inplace=True)"
   ]
  },
  {
   "cell_type": "code",
   "execution_count": null,
   "metadata": {},
   "outputs": [],
   "source": [
    "covid_us = covid[covid['Country/Region'] == \"US\"]"
   ]
  },
  {
   "cell_type": "code",
   "execution_count": null,
   "metadata": {},
   "outputs": [],
   "source": [
    "bitcoin = pd.read_csv('bitcoin.csv')"
   ]
  },
  {
   "cell_type": "code",
   "execution_count": null,
   "metadata": {},
   "outputs": [],
   "source": [
    "new_data = pd.DataFrame()\n",
    "new_data['Date'] = bitcoin['Date']\n",
    "new_data['Adj Close'] = bitcoin['Adj Close**']\n"
   ]
  },
  {
   "cell_type": "code",
   "execution_count": null,
   "metadata": {},
   "outputs": [],
   "source": [
    "new_data['Date1'] = covid_us['Date']\n",
    "new_data['Confirmed'] = covid_us['Confirmed']"
   ]
  },
  {
   "cell_type": "code",
   "execution_count": null,
   "metadata": {},
   "outputs": [],
   "source": [
    "new_data = pd.merge(covid_us, bitcoin, on=\"Date\")\n"
   ]
  },
  {
   "cell_type": "code",
   "execution_count": null,
   "metadata": {},
   "outputs": [],
   "source": [
    "new_data.drop(['Open', 'High','Low', 'Close*', 'Volume', 'Recovered', 'Deaths'], axis=1)"
   ]
  },
  {
   "cell_type": "markdown",
   "metadata": {},
   "source": [
    "### 15. Covid-19 affect on Bitcoins Stocks Plot"
   ]
  },
  {
   "cell_type": "code",
   "execution_count": null,
   "metadata": {
    "scrolled": true
   },
   "outputs": [],
   "source": [
    "import matplotlib.pyplot as plt # Impot the relevant module\n",
    "\n",
    "fig, ax = plt.subplots() # Create the figure and axes object\n",
    "\n",
    "# Plot the first x and y axes:\n",
    "new_data.plot(x = 'Date', y = 'Confirmed', ax = ax,grid = True, title= \"Covid-19 affect on Bitcoins Stocks\") \n",
    "# Plot the second x and y axes. By secondary_y = True a second y-axis is requested:\n",
    "# (see https://pandas.pydata.org/pandas-docs/stable/reference/api/pandas.DataFrame.plot.html for details)\n",
    "new_data.plot(x = 'Date', y = 'Adj Close**', ax = ax,grid = True, secondary_y = True) "
   ]
  },
  {
   "cell_type": "code",
   "execution_count": null,
   "metadata": {},
   "outputs": [],
   "source": [
    "crude_oil.drop(crude_oil.tail(2).index,inplace=True)"
   ]
  },
  {
   "cell_type": "code",
   "execution_count": null,
   "metadata": {},
   "outputs": [],
   "source": [
    "crude_oil"
   ]
  },
  {
   "cell_type": "code",
   "execution_count": null,
   "metadata": {},
   "outputs": [],
   "source": [
    "crude_oil.to_csv('crude_oil.csv', index=False)"
   ]
  },
  {
   "cell_type": "code",
   "execution_count": null,
   "metadata": {},
   "outputs": [],
   "source": [
    "crude_oil = pd.read_csv('crude_oil.csv')"
   ]
  },
  {
   "cell_type": "code",
   "execution_count": null,
   "metadata": {},
   "outputs": [],
   "source": [
    "crude_oil"
   ]
  },
  {
   "cell_type": "code",
   "execution_count": null,
   "metadata": {},
   "outputs": [],
   "source": [
    "crude_oil_new = pd.merge(crude_oil, covid_us, on=\"Date\")"
   ]
  },
  {
   "cell_type": "code",
   "execution_count": null,
   "metadata": {},
   "outputs": [],
   "source": [
    "crude_oil_new.fillna(0,inplace = True)"
   ]
  },
  {
   "cell_type": "code",
   "execution_count": null,
   "metadata": {},
   "outputs": [],
   "source": [
    "crude_oil_new['Open'].mode()"
   ]
  },
  {
   "cell_type": "code",
   "execution_count": null,
   "metadata": {},
   "outputs": [],
   "source": [
    "crude_oil_new = crude_oil_new.replace(to_replace =\"-\", \n",
    "                 value =\"0.0\")"
   ]
  },
  {
   "cell_type": "code",
   "execution_count": null,
   "metadata": {},
   "outputs": [],
   "source": [
    "crude_oil_new.info()"
   ]
  },
  {
   "cell_type": "code",
   "execution_count": null,
   "metadata": {},
   "outputs": [],
   "source": [
    "crude_oil_new.rename(columns = {'Adj Close**':'Adj_Close'}, inplace = True)"
   ]
  },
  {
   "cell_type": "code",
   "execution_count": null,
   "metadata": {},
   "outputs": [],
   "source": [
    "crude_oil_new.info()"
   ]
  },
  {
   "cell_type": "code",
   "execution_count": null,
   "metadata": {},
   "outputs": [],
   "source": [
    "crude_oil_new['Adj_Close'] = crude_oil_new.Adj_Close.astype(float)"
   ]
  },
  {
   "cell_type": "code",
   "execution_count": null,
   "metadata": {},
   "outputs": [],
   "source": [
    "crude_oil_new"
   ]
  },
  {
   "cell_type": "markdown",
   "metadata": {},
   "source": [
    "### 16. Covid-19 affect on Cruid Oil Stocks Plot\n"
   ]
  },
  {
   "cell_type": "code",
   "execution_count": null,
   "metadata": {},
   "outputs": [],
   "source": [
    "fig, ax = plt.subplots() # Create the figure and axes object\n",
    "\n",
    "# Plot the first x and y axes:\n",
    "crude_oil_new.plot(x = 'Date', y = 'Confirmed', ax = ax,grid = True,title= \"Covid-19 affect on Cruid Oil Stocks\") \n",
    "# Plot the second x and y axes. By secondary_y = True a second y-axis is requested:\n",
    "# (see https://pandas.pydata.org/pandas-docs/stable/reference/api/pandas.DataFrame.plot.html for details)\n",
    "crude_oil_new.plot(x = 'Date', y = 'Adj_Close', ax = ax,grid = True, secondary_y = True) "
   ]
  },
  {
   "cell_type": "code",
   "execution_count": null,
   "metadata": {},
   "outputs": [],
   "source": [
    "sp_500_website = r'https://finance.yahoo.com/quote/ES%3DF/history?p=ES%3DF'\n",
    " \n",
    "def get_key_stats(sp_500_website):\n",
    " \n",
    "    # The web page is make up of several html table. By calling read_html function.\n",
    "    # all the tables are retrieved in dataframe format.\n",
    "    # Next is to append all the table and transpose it to give a nice one row data.\n",
    "    df_list = pd.read_html(sp_500_website)\n",
    "    result_df = df_list[0]\n",
    " \n",
    "    for df in df_list[1:]:\n",
    "        result_df = result_df.append(df)\n",
    " \n",
    "    # The data is in column format.\n",
    "    # Transpose the result to make all data in single row\n",
    "    return result_df\n",
    " \n",
    "# Save the result to csv\n",
    "sp_500 = get_key_stats(sp_500_website)"
   ]
  },
  {
   "cell_type": "code",
   "execution_count": null,
   "metadata": {},
   "outputs": [],
   "source": [
    "sp_500.info()"
   ]
  },
  {
   "cell_type": "code",
   "execution_count": null,
   "metadata": {},
   "outputs": [],
   "source": [
    "sp_500.drop(sp_500.tail(2).index,inplace=True)\n"
   ]
  },
  {
   "cell_type": "code",
   "execution_count": null,
   "metadata": {},
   "outputs": [],
   "source": [
    "sp_500.to_csv('sp_500.csv', index=False)"
   ]
  },
  {
   "cell_type": "code",
   "execution_count": null,
   "metadata": {},
   "outputs": [],
   "source": [
    "sp_500 = pd.read_csv('sp_500.csv')"
   ]
  },
  {
   "cell_type": "code",
   "execution_count": null,
   "metadata": {},
   "outputs": [],
   "source": [
    "covid = pd.read_csv('covid-19.csv')"
   ]
  },
  {
   "cell_type": "code",
   "execution_count": null,
   "metadata": {},
   "outputs": [],
   "source": [
    "sp_500 = sp_500.replace(to_replace =\"-\", \n",
    "                 value =\"0.0\")"
   ]
  },
  {
   "cell_type": "code",
   "execution_count": null,
   "metadata": {},
   "outputs": [],
   "source": [
    "sp_500_new = pd.merge(sp_500, covid_us, on=\"Date\")"
   ]
  },
  {
   "cell_type": "code",
   "execution_count": null,
   "metadata": {},
   "outputs": [],
   "source": [
    "sp_500_new.info()"
   ]
  },
  {
   "cell_type": "code",
   "execution_count": null,
   "metadata": {},
   "outputs": [],
   "source": [
    "sp_500_new['Adj_Close'] = sp_500_new.Adj_Close.astype(float)"
   ]
  },
  {
   "cell_type": "code",
   "execution_count": null,
   "metadata": {},
   "outputs": [],
   "source": [
    "sp_500_new.rename(columns = {'Adj Close**':'Adj_Close'}, inplace = True)"
   ]
  },
  {
   "cell_type": "markdown",
   "metadata": {},
   "source": [
    "### 17. Covid-19 affect on SP-500 Stocks Plot\n"
   ]
  },
  {
   "cell_type": "code",
   "execution_count": null,
   "metadata": {},
   "outputs": [],
   "source": [
    "fig, ax = plt.subplots() # Create the figure and axes object\n",
    "\n",
    "# Plot the first x and y axes:\n",
    "sp_500_new.plot(x = 'Date', y = 'Confirmed', ax = ax,grid = True, title= \"Covid-19 affect on SP-500 stocks\") \n",
    "# Plot the second x and y axes. By secondary_y = True a second y-axis is requested:\n",
    "# (see https://pandas.pydata.org/pandas-docs/stable/reference/api/pandas.DataFrame.plot.html for details)\n",
    "sp_500_new.plot(x = 'Date', y = 'Adj_Close', ax = ax,grid = True, secondary_y = True) "
   ]
  },
  {
   "cell_type": "code",
   "execution_count": null,
   "metadata": {},
   "outputs": [],
   "source": [
    "nasdaq_website = r'https://finance.yahoo.com/quote/NQ%3DF/history?p=NQ%3DF'\n",
    " \n",
    "def get_key_stats(nasdaq_website):\n",
    " \n",
    "    # The web page is make up of several html table. By calling read_html function.\n",
    "    # all the tables are retrieved in dataframe format.\n",
    "    # Next is to append all the table and transpose it to give a nice one row data.\n",
    "    df_list = pd.read_html(nasdaq_website)\n",
    "    result_df = df_list[0]\n",
    " \n",
    "    for df in df_list[1:]:\n",
    "        result_df = result_df.append(df)\n",
    " \n",
    "    # The data is in column format.\n",
    "    # Transpose the result to make all data in single row\n",
    "    return result_df\n",
    " \n",
    "# Save the result to csv\n",
    "nasdaq = get_key_stats(nasdaq_website)"
   ]
  },
  {
   "cell_type": "code",
   "execution_count": null,
   "metadata": {},
   "outputs": [],
   "source": [
    "nasdaq"
   ]
  },
  {
   "cell_type": "code",
   "execution_count": null,
   "metadata": {},
   "outputs": [],
   "source": [
    "nasdaq.drop(nasdaq.tail(2).index,inplace=True)"
   ]
  },
  {
   "cell_type": "code",
   "execution_count": null,
   "metadata": {},
   "outputs": [],
   "source": [
    "nasdaq.to_csv('nasdaq.csv', index=False)"
   ]
  },
  {
   "cell_type": "code",
   "execution_count": null,
   "metadata": {},
   "outputs": [],
   "source": [
    "nasdaq = pd.read_csv('nasdaq.csv')"
   ]
  },
  {
   "cell_type": "code",
   "execution_count": null,
   "metadata": {},
   "outputs": [],
   "source": [
    "nasdaq = nasdaq.replace(to_replace =\"-\", \n",
    "                 value =\"0.0\")"
   ]
  },
  {
   "cell_type": "code",
   "execution_count": null,
   "metadata": {},
   "outputs": [],
   "source": [
    "nasdaq.info()"
   ]
  },
  {
   "cell_type": "code",
   "execution_count": null,
   "metadata": {},
   "outputs": [],
   "source": [
    "nasdaq_new = pd.merge(nasdaq, covid_us, on=\"Date\")"
   ]
  },
  {
   "cell_type": "code",
   "execution_count": null,
   "metadata": {},
   "outputs": [],
   "source": [
    "nasdaq_new"
   ]
  },
  {
   "cell_type": "code",
   "execution_count": null,
   "metadata": {},
   "outputs": [],
   "source": [
    "nasdaq_new.rename(columns = {'Adj Close**':'Adj_Close'}, inplace = True)"
   ]
  },
  {
   "cell_type": "code",
   "execution_count": null,
   "metadata": {},
   "outputs": [],
   "source": [
    "nasdaq_new['Adj_Close'] = nasdaq_new.Adj_Close.astype(float)\n"
   ]
  },
  {
   "cell_type": "markdown",
   "metadata": {},
   "source": [
    "### 18. Covid-19 affect on NASDAQ Stocks Plot"
   ]
  },
  {
   "cell_type": "code",
   "execution_count": null,
   "metadata": {},
   "outputs": [],
   "source": [
    "fig, ax = plt.subplots() # Create the figure and axes object\n",
    "\n",
    "# Plot the first x and y axes:\n",
    "nasdaq_new.plot(x = 'Date', y = 'Confirmed', ax = ax,grid = True,title='Covid-19 affect on NASDAQ stocks') \n",
    "# Plot the second x and y axes. By secondary_y = True a second y-axis is requested:\n",
    "# (see https://pandas.pydata.org/pandas-docs/stable/reference/api/pandas.DataFrame.plot.html for details)\n",
    "nasdaq_new.plot(x = 'Date', y = 'Adj_Close', ax = ax,grid = True,secondary_y = True) "
   ]
  },
  {
   "cell_type": "code",
   "execution_count": null,
   "metadata": {},
   "outputs": [],
   "source": [
    "nasdaq_new"
   ]
  },
  {
   "cell_type": "code",
   "execution_count": null,
   "metadata": {},
   "outputs": [],
   "source": [
    "dow_futures_website = r'https://finance.yahoo.com/quote/YM%3DF/history?p=YM%3DF'\n",
    " \n",
    "def get_key_stats(dow_futures_website):\n",
    " \n",
    "    # The web page is make up of several html table. By calling read_html function.\n",
    "    # all the tables are retrieved in dataframe format.\n",
    "    # Next is to append all the table and transpose it to give a nice one row data.\n",
    "    df_list = pd.read_html(dow_futures_website)\n",
    "    result_df = df_list[0]\n",
    " \n",
    "    for df in df_list[1:]:\n",
    "        result_df = result_df.append(df)\n",
    " \n",
    "    # The data is in column format.\n",
    "    # Transpose the result to make all data in single row\n",
    "    return result_df\n",
    " \n",
    "# Save the result to csv\n",
    "dow_futures = get_key_stats(dow_futures_website)"
   ]
  },
  {
   "cell_type": "code",
   "execution_count": null,
   "metadata": {},
   "outputs": [],
   "source": [
    "dow_futures"
   ]
  },
  {
   "cell_type": "code",
   "execution_count": null,
   "metadata": {},
   "outputs": [],
   "source": [
    "dow_futures.drop(dow_futures.tail(2).index,inplace=True)"
   ]
  },
  {
   "cell_type": "code",
   "execution_count": null,
   "metadata": {},
   "outputs": [],
   "source": [
    "dow_futures.to_csv('dow_futures.csv', index=False)"
   ]
  },
  {
   "cell_type": "code",
   "execution_count": null,
   "metadata": {},
   "outputs": [],
   "source": [
    "dow_futures = pd.read_csv('dow_futures.csv')"
   ]
  },
  {
   "cell_type": "code",
   "execution_count": null,
   "metadata": {},
   "outputs": [],
   "source": [
    "dow_futures = dow_futures.replace(to_replace =\"-\", \n",
    "                 value =\"0.0\")"
   ]
  },
  {
   "cell_type": "code",
   "execution_count": null,
   "metadata": {},
   "outputs": [],
   "source": [
    "dow_futures_new = pd.merge(dow_futures, covid_us, on='Date')"
   ]
  },
  {
   "cell_type": "code",
   "execution_count": null,
   "metadata": {},
   "outputs": [],
   "source": [
    "dow_futures_new['Adj_Close'] = dow_futures_new.Adj_Close.astype(float)"
   ]
  },
  {
   "cell_type": "code",
   "execution_count": null,
   "metadata": {},
   "outputs": [],
   "source": [
    "dow_futures_new.rename(columns = {'Adj Close**':'Adj_Close'}, inplace = True)"
   ]
  },
  {
   "cell_type": "code",
   "execution_count": null,
   "metadata": {},
   "outputs": [],
   "source": [
    "dow_futures_new"
   ]
  },
  {
   "cell_type": "markdown",
   "metadata": {},
   "source": [
    "### 19. Covid-19 affect on Dow-Futures Stocks Plot"
   ]
  },
  {
   "cell_type": "code",
   "execution_count": null,
   "metadata": {},
   "outputs": [],
   "source": [
    "fig, ax = plt.subplots() # Create the figure and axes object\n",
    "\n",
    "# Plot the first x and y axes:\n",
    "dow_futures_new.plot(x = 'Date', y = 'Confirmed', ax = ax,grid = True,title='Covid-19 affect on Dow-Futures stocks') \n",
    "# Plot the second x and y axes. By secondary_y = True a second y-axis is requested:\n",
    "# (see https://pandas.pydata.org/pandas-docs/stable/reference/api/pandas.DataFrame.plot.html for details)\n",
    "dow_futures_new.plot(x = 'Date', y = 'Adj_Close', ax = ax,grid = True, secondary_y = True) "
   ]
  },
  {
   "cell_type": "code",
   "execution_count": null,
   "metadata": {},
   "outputs": [],
   "source": [
    "dow_futures_new = dow_futures_new.drop(['Close*','Open','High','Low','Volume','Recovered','Deaths'], axis=1)"
   ]
  },
  {
   "cell_type": "code",
   "execution_count": null,
   "metadata": {},
   "outputs": [],
   "source": [
    "dow_futures_new.isnull().sum()"
   ]
  },
  {
   "cell_type": "code",
   "execution_count": null,
   "metadata": {},
   "outputs": [],
   "source": [
    "dow_futures_new"
   ]
  },
  {
   "cell_type": "code",
   "execution_count": null,
   "metadata": {},
   "outputs": [],
   "source": [
    "crypto_website = r'https://finance.yahoo.com/quote/%5ECMC200/history?p=%5ECMC200'\n",
    " \n",
    "def get_key_stats(crypto_website):\n",
    " \n",
    "    # The web page is make up of several html table. By calling read_html function.\n",
    "    # all the tables are retrieved in dataframe format.\n",
    "    # Next is to append all the table and transpose it to give a nice one row data.\n",
    "    df_list = pd.read_html(crypto_website)\n",
    "    result_df = df_list[0]\n",
    " \n",
    "    for df in df_list[1:]:\n",
    "        result_df = result_df.append(df)\n",
    " \n",
    "    # The data is in column format.\n",
    "    # Transpose the result to make all data in single row\n",
    "    return result_df\n",
    " \n",
    "# Save the result to csv\n",
    "crypto_data = get_key_stats(crypto_website)"
   ]
  },
  {
   "cell_type": "code",
   "execution_count": null,
   "metadata": {},
   "outputs": [],
   "source": [
    "crypto_data"
   ]
  },
  {
   "cell_type": "code",
   "execution_count": null,
   "metadata": {},
   "outputs": [],
   "source": [
    "crypto_data.drop(crypto_data.tail(2).index,inplace=True)"
   ]
  },
  {
   "cell_type": "code",
   "execution_count": null,
   "metadata": {},
   "outputs": [],
   "source": [
    "crypto_data.to_csv('crypto_data.csv', index=False)"
   ]
  },
  {
   "cell_type": "code",
   "execution_count": null,
   "metadata": {},
   "outputs": [],
   "source": [
    "crypto_data = pd.read_csv('crypto_data.csv')"
   ]
  },
  {
   "cell_type": "code",
   "execution_count": null,
   "metadata": {},
   "outputs": [],
   "source": [
    "crypto_data = crypto_data.replace(to_replace =\"-\", \n",
    "                 value =\"0.0\")"
   ]
  },
  {
   "cell_type": "code",
   "execution_count": null,
   "metadata": {},
   "outputs": [],
   "source": [
    "crypto_data_new = pd.merge(crypto_data, covid_us, on='Date')"
   ]
  },
  {
   "cell_type": "code",
   "execution_count": null,
   "metadata": {},
   "outputs": [],
   "source": [
    "crypto_data_new['Adj_Close'] = crypto_data_new.Adj_Close.astype(float)"
   ]
  },
  {
   "cell_type": "code",
   "execution_count": null,
   "metadata": {},
   "outputs": [],
   "source": [
    "crypto_data_new.rename(columns = {'Adj Close**':'Adj_Close'}, inplace = True)"
   ]
  },
  {
   "cell_type": "markdown",
   "metadata": {},
   "source": [
    "### 20. Covid-19 affect on Crypto currency Stocks Plot\n"
   ]
  },
  {
   "cell_type": "code",
   "execution_count": null,
   "metadata": {},
   "outputs": [],
   "source": [
    "fig, ax = plt.subplots() # Create the figure and axes object\n",
    "# Plot the first x and y axes:\n",
    "crypto_data_new.plot(x = 'Date', y = 'Confirmed', ax = ax, grid = True,title='Covid-19 affect on Cryptocurrency Price') \n",
    "# Plot the second x and y axes. By secondary_y = True a second y-axis is requested:\n",
    "# (see https://pandas.pydata.org/pandas-docs/stable/reference/api/pandas.DataFrame.plot.html for details)\n",
    "crypto_data_new.plot(x = 'Date', y = 'Adj_Close', ax = ax, grid = True,secondary_y = True)\n"
   ]
  }
 ],
 "metadata": {
  "kernelspec": {
   "display_name": "Python 3",
   "language": "python",
   "name": "python3"
  },
  "language_info": {
   "codemirror_mode": {
    "name": "ipython",
    "version": 3
   },
   "file_extension": ".py",
   "mimetype": "text/x-python",
   "name": "python",
   "nbconvert_exporter": "python",
   "pygments_lexer": "ipython3",
   "version": "3.7.4"
  }
 },
 "nbformat": 4,
 "nbformat_minor": 2
}
